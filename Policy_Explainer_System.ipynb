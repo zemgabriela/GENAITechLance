{
 "cells": [
  {
   "cell_type": "code",
   "execution_count": 21,
   "id": "2a461361-9498-48ca-be66-2a8a1a912a4f",
   "metadata": {},
   "outputs": [],
   "source": [
    "import os\n",
    "import getpass\n",
    "from openai import OpenAI\n",
    "from langchain_openai import OpenAIEmbeddings\n",
    "from langchain_community.vectorstores import Chroma"
   ]
  },
  {
   "cell_type": "code",
   "execution_count": 22,
   "id": "b8ac0b3a-bf37-413d-afee-e6f7089cd3f6",
   "metadata": {},
   "outputs": [],
   "source": [
    "if not os.environ.get(\"OPENAI_API_KEY\"):\n",
    "    os.environ[\"OPENAI_API_KEY\"] = getpass.getpass(\"Enter your OpenAI API key: \")\n",
    "\n",
    "client = OpenAI()"
   ]
  },
  {
   "cell_type": "code",
   "execution_count": 14,
   "id": "ee675273-34d1-484c-a521-acc12e97ac0c",
   "metadata": {},
   "outputs": [
    {
     "name": "stderr",
     "output_type": "stream",
     "text": [
      "/tmp/ipykernel_7417/3789767084.py:4: LangChainDeprecationWarning: The class `Chroma` was deprecated in LangChain 0.2.9 and will be removed in 1.0. An updated version of the class exists in the :class:`~langchain-chroma package and should be used instead. To use it run `pip install -U :class:`~langchain-chroma` and import as `from :class:`~langchain_chroma import Chroma``.\n",
      "  chroma_vs = Chroma(persist_directory=persist_directory, embedding_function=OpenAIEmbeddings())\n"
     ]
    }
   ],
   "source": [
    "persist_directory = './persist'\n",
    "\n",
    "# Load the Chroma vector store\n",
    "chroma_vs = Chroma(persist_directory=persist_directory, embedding_function=OpenAIEmbeddings())"
   ]
  },
  {
   "cell_type": "code",
   "execution_count": 18,
   "id": "bdcddeb1-45f3-4d7d-850c-58632884b5ec",
   "metadata": {},
   "outputs": [
    {
     "name": "stdout",
     "output_type": "stream",
     "text": [
      "TechLance’s parental leave policies integrate closely with our childcare support programs. New mothers receive 12 weeks of paid maternity leave, while non-birth parents receive six weeks of paid paternity leave. Adoptive parents receive eight weeks of paid leave that can be shared between both parents. Employees must have been with the company for at least 12 months to qualify for paid parental leave, though unpaid leave options may be available for newer employees under FMLA guidelines.During\n",
      "\n",
      "TechLance’s parental leave policies integrate closely with our childcare support programs. New mothers receive 12 weeks of paid maternity leave, while non-birth parents receive six weeks of paid paternity leave. Adoptive parents receive eight weeks of paid leave that can be shared between both parents. Employees must have been with the company for at least 12 months to qualify for paid parental leave, though unpaid leave options may be available for newer employees under FMLA guidelines.During\n",
      "\n",
      "for newer employees under FMLA guidelines.During parental leave, health insurance and other beneﬁts continue, and we guarantee a spot in our on-site childcare center for employees returning from maternity or paternity leave. We also oﬀer ﬂexible return-to-work arrangements, including part-time schedules for the ﬁrst 4-6 weeks and extended work-from-home options to help ease the transition back to work. For nursing mothers, TechLance provides four dedicated lactation rooms equipped with\n",
      "\n",
      "for newer employees under FMLA guidelines.During parental leave, health insurance and other beneﬁts continue, and we guarantee a spot in our on-site childcare center for employees returning from maternity or paternity leave. We also oﬀer ﬂexible return-to-work arrangements, including part-time schedules for the ﬁrst 4-6 weeks and extended work-from-home options to help ease the transition back to work. For nursing mothers, TechLance provides four dedicated lactation rooms equipped with\n",
      "\n"
     ]
    }
   ],
   "source": [
    "query = \"What's the maternity leave policy?\"\n",
    "What's the maternity leave policy?\n",
    "results = chroma_vs.similarity_search(query=query)\n",
    "\n",
    "for result in results:\n",
    "    print(result.page_content+\"\\n\")"
   ]
  },
  {
   "cell_type": "code",
   "execution_count": 39,
   "id": "ad8b714c-e449-4278-aab3-1e659775e0c9",
   "metadata": {},
   "outputs": [],
   "source": [
    "def get_response(messages):\n",
    "    \"\"\"\n",
    "    Generate a response using the chat completions API\n",
    "    \"\"\"\n",
    "    try:\n",
    "        response = client.chat.completions.create(\n",
    "            model=\"gpt-4o-mini\",\n",
    "            messages=messages\n",
    "        )\n",
    "        return response.choices[0].message.content\n",
    "    except Exception as e:\n",
    "        print(f\"Error generating response: {e}\")\n",
    "        return None"
   ]
  },
  {
   "cell_type": "code",
   "execution_count": 40,
   "id": "09cb2e53-159d-41eb-bd29-67110f29a2ec",
   "metadata": {},
   "outputs": [],
   "source": [
    "def append_message(messages, role, content):\n",
    "    \"\"\"Append a message to the conversation history.\"\"\"\n",
    "    messages.append({\"role\": role, \"content\": content})\n",
    "    return messages"
   ]
  },
  {
   "cell_type": "code",
   "execution_count": 51,
   "id": "7ceb9b95-c5bc-4de6-a57c-72b551af1b6e",
   "metadata": {},
   "outputs": [],
   "source": [
    "# Obtain answer from RAG\n",
    "rag_results = chroma_vs.similarity_search(query=query)\n",
    "rag_result = rag_results[0].page_content\n",
    "\n",
    "# Initialize conversation\n",
    "messages = [\n",
    "    {\"role\": \"system\", \"content\": \"You are an assistant summarizing policies into employee-friendly explanations.\"},\n",
    "    {\"role\": \"user\", \"content\": rag_result}\n",
    "]\n",
    "\n",
    "response = get_response(messages)\n",
    "messages = append_message(messages, \"assistant\", response)"
   ]
  },
  {
   "cell_type": "code",
   "execution_count": 52,
   "id": "88f97c1c-f770-4a63-9c4e-2e3ef5455ea7",
   "metadata": {},
   "outputs": [
    {
     "data": {
      "text/plain": [
       "\"At TechLance, we understand the importance of family, which is why we offer supportive parental leave policies that complement our childcare programs. Here's what you need to know:\\n\\n- **Maternity Leave**: New mothers can take **12 weeks of paid leave** after the birth of their child.\\n- **Paternity Leave**: Non-birth parents (like partners or spouses) are eligible for **6 weeks of paid leave**.\\n- **Adoptive Parents**: Those who adopt can receive **8 weeks of paid leave**, which can be shared between both parents.\\n\\nTo qualify for paid parental leave, employees need to have been with TechLance for **at least 12 months**. If you've been here for less time, don't worry—there may be unpaid leave options available for you under FMLA guidelines.\\n\\nWe’re here to support you during this exciting time in your life!\""
      ]
     },
     "execution_count": 52,
     "metadata": {},
     "output_type": "execute_result"
    }
   ],
   "source": [
    "response"
   ]
  },
  {
   "cell_type": "code",
   "execution_count": 45,
   "id": "c54e2aa3-f6f8-44e1-9173-88cbc2d42c25",
   "metadata": {},
   "outputs": [
    {
     "data": {
      "text/plain": [
       "'TechLance’s parental leave policies integrate closely with our childcare support programs. New mothers receive 12 weeks of paid maternity leave, while non-birth parents receive six weeks of paid paternity leave. Adoptive parents receive eight weeks of paid leave that can be shared between both parents. Employees must have been with the company for at least 12 months to qualify for paid parental leave, though unpaid leave options may be available for newer employees under FMLA guidelines.During'"
      ]
     },
     "execution_count": 45,
     "metadata": {},
     "output_type": "execute_result"
    }
   ],
   "source": [
    "rag_result"
   ]
  },
  {
   "cell_type": "code",
   "execution_count": 46,
   "id": "3fea253d-50f2-4e1a-aa60-5606de5579f0",
   "metadata": {},
   "outputs": [
    {
     "data": {
      "text/plain": [
       "'If you are adopting a child at TechLance, you are eligible for 8 weeks of paid leave. This leave can be shared between both parents if applicable. Just remember that to qualify for this benefit, you need to have been with the company for at least 12 months. If you have any questions or need assistance with the adoption leave process, feel free to reach out to HR!'"
      ]
     },
     "execution_count": 46,
     "metadata": {},
     "output_type": "execute_result"
    }
   ],
   "source": [
    "query_2 = \"What if I am adopting a child?\"\n",
    "messages = append_message(messages, \"user\", query_2)\n",
    "get_response(messages)"
   ]
  },
  {
   "cell_type": "code",
   "execution_count": 48,
   "id": "713d3f2a-d4e7-48a1-b015-9b10d599b185",
   "metadata": {},
   "outputs": [
    {
     "data": {
      "text/plain": [
       "'For international adoptions, additional unpaid leave may be available for required travel, and we oﬀer limited reimbursement for adoption-related travel expenses.'"
      ]
     },
     "execution_count": 48,
     "metadata": {},
     "output_type": "execute_result"
    }
   ],
   "source": [
    "rag_results_aux = chroma_vs.similarity_search(query=query_2)\n",
    "rag_results_aux[0].page_content"
   ]
  },
  {
   "cell_type": "code",
   "execution_count": 53,
   "id": "453d8008-5feb-4b48-9a9e-1ac4d9fcb115",
   "metadata": {},
   "outputs": [
    {
     "data": {
      "text/plain": [
       "\"If you're adopting a child, you'll be entitled to **8 weeks of paid leave** that can be shared between both parents. \\n\\nIf you're pursuing an international adoption, you may also have the option for additional **unpaid leave** to cover any necessary travel. Plus, we offer **limited reimbursement** for eligible adoption-related travel expenses to help ease the financial burden.\\n\\nWe’re committed to supporting you throughout the adoption process!\""
      ]
     },
     "execution_count": 53,
     "metadata": {},
     "output_type": "execute_result"
    }
   ],
   "source": [
    "query_2 = \"What if I am adopting a child?\"\n",
    "query_2 += \"\\n\" + rag_results_aux[0].page_content\n",
    "\n",
    "\n",
    "messages = append_message(messages, \"user\", query_2)\n",
    "get_response(messages)"
   ]
  },
  {
   "cell_type": "code",
   "execution_count": null,
   "id": "1e534d93-8f5c-4b6a-af86-4a2d2176b9cc",
   "metadata": {},
   "outputs": [],
   "source": []
  },
  {
   "cell_type": "code",
   "execution_count": null,
   "id": "66061e96-583b-44fa-89f3-b2a05a9e37dc",
   "metadata": {},
   "outputs": [],
   "source": []
  },
  {
   "cell_type": "code",
   "execution_count": null,
   "id": "0733ef4b-0fc8-49dd-b924-3b6929d463ee",
   "metadata": {},
   "outputs": [],
   "source": []
  },
  {
   "cell_type": "code",
   "execution_count": null,
   "id": "10b79b50-eeb2-47fa-9dfb-4e05d2231e3f",
   "metadata": {},
   "outputs": [
    {
     "name": "stdin",
     "output_type": "stream",
     "text": [
      " What's the maternity leave policy\n"
     ]
    },
    {
     "name": "stdout",
     "output_type": "stream",
     "text": [
      "At TechLance, we support our employees during their journey into parenthood with the following maternity leave benefits:\n",
      "\n",
      "- **Maternity Leave**: New mothers get **12 weeks of paid leave**.\n",
      "- **Paternity Leave**: Non-birth parents can take **6 weeks of paid leave**.\n",
      "- **Adoption Leave**: For adoptive parents, there’s **8 weeks of paid leave**, which can be shared between both parents.\n",
      "\n",
      "To be eligible for paid parental leave, you need to have been with TechLance for at least **12 months**. If you’ve been here for less than a year, you may still have options for unpaid leave under FMLA guidelines.\n",
      "\n"
     ]
    },
    {
     "name": "stdin",
     "output_type": "stream",
     "text": [
      " What if you are adopting a kid?\n"
     ]
    },
    {
     "name": "stdout",
     "output_type": "stream",
     "text": [
      "If you're adopting a child, TechLance offers the following benefits:\n",
      "\n",
      "- **Adoption Leave**: You will receive **8 weeks of paid leave** that can be shared between both parents, whether you are adopting alone or with a partner.\n",
      "  \n",
      "- **International Adoptions**: If you are adopting from another country, you may qualify for **additional unpaid leave** for travel purposes.\n",
      "\n",
      "- **Travel Expense Reimbursement**: We also provide limited reimbursement for expenses related to adoption travel.\n",
      "\n",
      "This ensures you have the necessary time and financial support during your adoption process.\n",
      "\n"
     ]
    }
   ],
   "source": [
    "# Initialize conversation\n",
    "messages = [\n",
    "    {\"role\": \"system\", \"content\": \"You are an assistant summarizing policies into employee-friendly explanations.\"}\n",
    "]\n",
    "while True:\n",
    "    # Let the user ask a question\n",
    "    query = input()\n",
    "\n",
    "    # Get the most similar answer from the RAG\n",
    "    rag_results = chroma_vs.similarity_search(query=query)\n",
    "    rag_result = rag_results[0].page_content # Get the most similar one\n",
    "\n",
    "    # Concatenate the user query with the rag response\n",
    "    final_query = query + \"\\n\" + rag_result\n",
    "\n",
    "    # Append user message\n",
    "    messages = append_message(messages, \"user\", final_query)\n",
    "\n",
    "    # Get response from the chatbot and add it to the message to continue the context\n",
    "    response = get_response(messages)\n",
    "    messages = append_message(messages, \"assistant\", response)\n",
    "    print(response+\"\\n\")"
   ]
  },
  {
   "cell_type": "code",
   "execution_count": null,
   "id": "b07b28e6-6ed1-4a1c-93b2-884b0e4f1234",
   "metadata": {},
   "outputs": [],
   "source": []
  }
 ],
 "metadata": {
  "kernelspec": {
   "display_name": "conda_python3",
   "language": "python",
   "name": "conda_python3"
  },
  "language_info": {
   "codemirror_mode": {
    "name": "ipython",
    "version": 3
   },
   "file_extension": ".py",
   "mimetype": "text/x-python",
   "name": "python",
   "nbconvert_exporter": "python",
   "pygments_lexer": "ipython3",
   "version": "3.10.18"
  }
 },
 "nbformat": 4,
 "nbformat_minor": 5
}
