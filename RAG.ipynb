{
 "cells": [
  {
   "cell_type": "markdown",
   "id": "8bac5472",
   "metadata": {},
   "source": [
    "## Policy Document Indexing for RAG"
   ]
  },
  {
   "cell_type": "code",
   "execution_count": 4,
   "id": "e5fb6d2d",
   "metadata": {},
   "outputs": [
    {
     "name": "stdout",
     "output_type": "stream",
     "text": [
      "['tuition-reimbursement-policy.pdf', 'health-insurance-policy.pdf', 'work-from-home-policy.pdf', 'gym-policy.pdf', 'vacation-policy.pdf', '401k-retirement-policy.pdf', 'life-insurance-policy.pdf', 'childcare-policy.pdf']\n",
      "8\n"
     ]
    }
   ],
   "source": [
    "import os\n",
    "from datetime import datetime\n",
    "\n",
    "# Path to the documents\n",
    "path = 'assets/documents'\n",
    "\n",
    "# Show all files in the folder:\n",
    "files = os.listdir(path)\n",
    "print(files)\n",
    "\n",
    "# Check the length\n",
    "print(len(files))"
   ]
  },
  {
   "cell_type": "markdown",
   "id": "92ea6c8f",
   "metadata": {},
   "source": [
    "### Create a function that will check last modified time of the files and if it is not new we won't need to re-create the vector store"
   ]
  },
  {
   "cell_type": "code",
   "execution_count": null,
   "id": "38f1dd30",
   "metadata": {},
   "outputs": [],
   "source": [
    "# Check when were they last modified\n",
    "for file in files:\n",
    "    file_path = os.path.join(path, file)\n",
    "    mod_time = os.path.getmtime(file_path)\n",
    "    print(f\"{file}: {datetime.fromtimestamp(mod_time)}\")"
   ]
  },
  {
   "cell_type": "markdown",
   "id": "66662b0e",
   "metadata": {},
   "source": [
    "### Text Extraction, Cleaning, Preprocessing"
   ]
  },
  {
   "cell_type": "code",
   "execution_count": null,
   "id": "3d1aa425",
   "metadata": {},
   "outputs": [],
   "source": [
    "# Create a function that will use PyPDF2 library to extrac text from policy PDFs\n",
    "# Create a functions that will extracts pdf to text, remove the noise, split the text into section\n",
    "\n",
    "import re\n",
    "import string\n",
    "from PyPDF2 import PdfReader\n",
    "\n",
    "# Function to extract text from a PDF file\n",
    "def extract_text_from_pdf(pdf_path: str) -> str:\n",
    "    \"\"\"\n",
    "    Extracts all text from a PDF file using PyPDF2.\n",
    "    \n",
    "    Args:\n",
    "        pdf_path (str): Path to the PDF file.\n",
    "    \n",
    "    Returns:\n",
    "        str: Extracted raw text.\n",
    "    \"\"\"\n",
    "    text = \"\"\n",
    "    reader = PdfReader(pdf_path)\n",
    "    for page in reader.pages:\n",
    "        text += page.extract_text() or \"\"  # handle None if empty page\n",
    "    return text\n",
    "\n",
    "# We start by splitting the document into sections for later text preprocessing\n",
    "def split_into_sections(text: str) -> dict:\n",
    "    \"\"\"\n",
    "    Splits text into sections based on detected headings.\n",
    "    Returns a dictionary {heading: content}.\n",
    "    \"\"\"\n",
    "    lines = text.splitlines()\n",
    "    sections = {}\n",
    "    current_heading = \"Document\"\n",
    "    current_content = []\n",
    "    \n",
    "    for line in lines:\n",
    "        stripped = line.strip()\n",
    "        \n",
    "        # Heuristic: heading if short, capitalized, and not ending with period\n",
    "        if stripped and len(stripped.split()) <= 6 and stripped[0].isupper() and not stripped.endswith('.'):\n",
    "            # save previous section\n",
    "            if current_content:\n",
    "                sections[current_heading] = \" \".join(current_content).strip()\n",
    "            # start new section\n",
    "            current_heading = stripped\n",
    "            current_content = []\n",
    "        else:\n",
    "            current_content.append(stripped)\n",
    "    \n",
    "    # save last section\n",
    "    if current_content:\n",
    "        sections[current_heading] = \" \".join(current_content).strip()\n",
    "    \n",
    "    return sections\n",
    "\n",
    "# Function to clean and remove noise from text\n",
    "# We observe that the pdfs don't contain any page numbers, or images\n",
    "def clean_text(text: str, lowercase: bool = True) -> str:\n",
    "    \"\"\"\n",
    "    Cleans extracted PDF text for preprocessing:\n",
    "    - Lowercase (optional)\n",
    "    - Remove line breaks, tabs\n",
    "    - Remove punctuation\n",
    "    - Normalize spaces\n",
    "    \n",
    "    Args:\n",
    "        text (str): Raw extracted text.\n",
    "        lowercase (bool): Convert to lowercase (default True).\n",
    "    \n",
    "    Returns:\n",
    "        str: Cleaned text ready for NLP tasks.\n",
    "    \"\"\"\n",
    "    # Convert to lowercase if needed\n",
    "    if lowercase:\n",
    "        text = text.lower()\n",
    "    \n",
    "    # Replace newlines and tabs with space\n",
    "    text = text.replace(\"\\n\", \" \").replace(\"\\t\", \" \")\n",
    "    \n",
    "    # Remove punctuation\n",
    "    text = text.translate(str.maketrans(\"\", \"\", string.punctuation))\n",
    "    \n",
    "    # Remove multiple spaces\n",
    "    text = re.sub(r\"\\s+\", \" \", text)\n",
    "    \n",
    "    return text.strip()\n"
   ]
  },
  {
   "cell_type": "code",
   "execution_count": 19,
   "id": "214a2b8a",
   "metadata": {},
   "outputs": [
    {
     "name": "stderr",
     "output_type": "stream",
     "text": [
      "100%|██████████| 8/8 [00:07<00:00,  1.02it/s]\n",
      "\n"
     ]
    },
    {
     "data": {
      "application/vnd.microsoft.datawrangler.viewer.v0+json": {
       "columns": [
        {
         "name": "index",
         "rawType": "int64",
         "type": "integer"
        },
        {
         "name": "file",
         "rawType": "object",
         "type": "string"
        },
        {
         "name": "section",
         "rawType": "object",
         "type": "string"
        },
        {
         "name": "text",
         "rawType": "object",
         "type": "string"
        }
       ],
       "ref": "2a942c00-b94f-4b0b-a4d9-7b10cb14e66b",
       "rows": [
        [
         "0",
         "tuition-reimbursement-policy.pdf",
         "Introduction",
         "TechLance is committed to supporting the professional growth and career development of our employees through comprehensive educational assistance programs. We believe that investing in our team members’ education not only enhances their skills and career prospects but also brings valuable knowledge and capabilities back to our organization. Our tuition reimbursement program is designed to help employees pursue higher education, professional certiﬁcations, and skill development opportunities that align with their career goals and contribute to TechLance’s success. Education is a lifelong journey, and we recognize that our employees may need to balance their learning goals with work responsibilities and family obligations. Our program is structured to accommodate working professionals who want to advance their education while maintaining their career momentum. Whether you’re pursuing your ﬁrst degree, advancing to graduate studies, or seeking professional certiﬁcations to enhance your expertise, TechLance is here to support your educational journey. We view tuition reimbursement as a partnership between the employee and the company, where both parties beneﬁt from the investment in education. Employees gain new knowledge, skills, and credentials that enhance their career prospects, while TechLance beneﬁts from a more skilled and knowledgeable workforce. This mutual investment creates a commitment to continued employment that helps both individual career development and organizational stability."
        ],
        [
         "1",
         "tuition-reimbursement-policy.pdf",
         "Eligibility Requirements and Performance Standards",
         "To be eligible for tuition reimbursement, employees must have completed at least 12 months of continuous full-time employment or 18 months of part-time employment (minimum 20 hours per week). This tenure requirement ensures that employees have established themselves in their roles and demonstrated commitment to TechLance before receiving educational beneﬁts. Performance standards are equally important in determining eligibility. Employees must maintain a performance rating of “Meets Expectations” or higher on their most recent annual review, have no active disciplinary actions or performance improvement plans, and maintain good attendance with no unexcused absences in the past six months. These requirements ensure that educational pursuits complement rather than detract from current job performance. Throughout your course of study, you must remain actively employed and maintain full-time status if you’re pursuing degree programs. Part-time study is strongly encouraged to ensure that coursework doesn’t interfere with work responsibilities and performance. While we support employee development, your primary obligation remains to your current role and responsibilities at TechLance. The approval process begins with discussions between you and your direct manager about how the proposed education relates to your current role or career trajectory within TechLance. Your manager needs to conﬁrm that the educational program will provide value to both your professional development and the company’s needs, and that your schedule can accommodate both work and study commitments without compromising job performance."
        ],
        [
         "2",
         "tuition-reimbursement-policy.pdf",
         "Covered Educational Expenses and Limits",
         "TechLance covers a range of educational expenses including tuition costs, mandatory registration and enrollment fees, required laboratory and technology fees, essential textbooks and course materials, and educational software speciﬁcally required for coursework. We also cover graduation fees for degree completion. However, we don’t cover transportation costs, parking fees, housing, meals, optional materials, or general technology purchases like personal computers. Our reimbursement limits vary based on the level of education you’re pursuing. Undergraduate degree programs are eligible for up to $4,000 per calendar year, while graduate degree programscan receive up to $6,000 annually. Professional certiﬁcations are covered up to $3,000 per year, and individual courses not part of a degree program are reimbursed up to $2,000 annually. There’s also a lifetime maximum beneﬁt of $25,000 per employee throughout your entire career at TechLance. This cap ensures that the program remains sustainable while still providing substantial support for employee education. Separate limits apply to undergraduate and graduate studies, and these limits don’t reset with promotions or role changes within the company. For ﬁnal semester situations where students might exceed annual limits, we may provide additional consideration to help complete degree requirements. However, any expenses exceeding the maximum limits are the employee’s responsibility, and we encourage planning your educational timeline to maximize the beneﬁts available."
        ],
        [
         "3",
         "tuition-reimbursement-policy.pdf",
         "Application and Approval Process",
         "The application process must be completed at least 30 days before your course begins to allow adequate time for review and approval. Rush processing is available with a 10-day minimum timeframe but requires manager approval and may not always be accommodated depending on the timing and complexity of the request. Your application package must include a completed TechLance tuition reimbursement application form, oﬃcial course descriptions or syllabus, detailed cost breakdown of all expenses, proof of institutional accreditation, and your most recent oﬃcial transcript. You’ll also need to demonstrate how the education relates to your current role or reasonable career progression within TechLance. The review process involves multiple levels of approval. Your direct manager ﬁrst evaluates the job relevance and scheduling implications, followed by HR veriﬁcation of eligibility and policy compliance. For reimbursement amounts over $3,000, senior management approval is required. The ﬁnance team conﬁrms budget availability before ﬁnal approval is granted. If your application is denied, you’ll receive written explanation of the reasons and information about the appeals process. Denied applications can be appealed to senior management withadditional justiﬁcation about how the education beneﬁts both your career development and TechLance’s business objectives."
        ],
        [
         "4",
         "tuition-reimbursement-policy.pdf",
         "Academic Performance Requirements",
         "To receive reimbursement, you must successfully complete your courses with grades of “C” or better for undergraduate courses and “B” or better for graduate-level courses. Pass/fail courses require a “Pass” grade, and professional certiﬁcations require successful completion and achievement of the certiﬁcation or license. You must submit oﬃcial transcripts within 60 days of course completion along with receipts and proof of payment for all covered expenses. No reimbursement is provided for failed courses, incomplete grades, or withdrawn courses, and repeated course failures may impact your eligibility for future educational assistance. The reimbursement request must be submitted within 90 days of course completion with all required documentation. Processing typically takes 30 days once complete documentation is received, and payment can be added to your regular paycheck, deposited directly to your bank account, or issued as a separate check. Reimbursements may be subject to income tax depending on IRS regulations and the total amount received during the tax year. We recommend consulting with a tax professional if you have questions about the tax implications of educational reimbursements."
        ]
       ],
       "shape": {
        "columns": 3,
        "rows": 5
       }
      },
      "text/html": [
       "<div>\n",
       "<style scoped>\n",
       "    .dataframe tbody tr th:only-of-type {\n",
       "        vertical-align: middle;\n",
       "    }\n",
       "\n",
       "    .dataframe tbody tr th {\n",
       "        vertical-align: top;\n",
       "    }\n",
       "\n",
       "    .dataframe thead th {\n",
       "        text-align: right;\n",
       "    }\n",
       "</style>\n",
       "<table border=\"1\" class=\"dataframe\">\n",
       "  <thead>\n",
       "    <tr style=\"text-align: right;\">\n",
       "      <th></th>\n",
       "      <th>file</th>\n",
       "      <th>section</th>\n",
       "      <th>text</th>\n",
       "    </tr>\n",
       "  </thead>\n",
       "  <tbody>\n",
       "    <tr>\n",
       "      <th>0</th>\n",
       "      <td>tuition-reimbursement-policy.pdf</td>\n",
       "      <td>Introduction</td>\n",
       "      <td>TechLance is committed to supporting the profe...</td>\n",
       "    </tr>\n",
       "    <tr>\n",
       "      <th>1</th>\n",
       "      <td>tuition-reimbursement-policy.pdf</td>\n",
       "      <td>Eligibility Requirements and Performance Stand...</td>\n",
       "      <td>To be eligible for tuition reimbursement, empl...</td>\n",
       "    </tr>\n",
       "    <tr>\n",
       "      <th>2</th>\n",
       "      <td>tuition-reimbursement-policy.pdf</td>\n",
       "      <td>Covered Educational Expenses and Limits</td>\n",
       "      <td>TechLance covers a range of educational expens...</td>\n",
       "    </tr>\n",
       "    <tr>\n",
       "      <th>3</th>\n",
       "      <td>tuition-reimbursement-policy.pdf</td>\n",
       "      <td>Application and Approval Process</td>\n",
       "      <td>The application process must be completed at l...</td>\n",
       "    </tr>\n",
       "    <tr>\n",
       "      <th>4</th>\n",
       "      <td>tuition-reimbursement-policy.pdf</td>\n",
       "      <td>Academic Performance Requirements</td>\n",
       "      <td>To receive reimbursement, you must successfull...</td>\n",
       "    </tr>\n",
       "  </tbody>\n",
       "</table>\n",
       "</div>"
      ],
      "text/plain": [
       "                               file  \\\n",
       "0  tuition-reimbursement-policy.pdf   \n",
       "1  tuition-reimbursement-policy.pdf   \n",
       "2  tuition-reimbursement-policy.pdf   \n",
       "3  tuition-reimbursement-policy.pdf   \n",
       "4  tuition-reimbursement-policy.pdf   \n",
       "\n",
       "                                             section  \\\n",
       "0                                       Introduction   \n",
       "1  Eligibility Requirements and Performance Stand...   \n",
       "2            Covered Educational Expenses and Limits   \n",
       "3                   Application and Approval Process   \n",
       "4                  Academic Performance Requirements   \n",
       "\n",
       "                                                text  \n",
       "0  TechLance is committed to supporting the profe...  \n",
       "1  To be eligible for tuition reimbursement, empl...  \n",
       "2  TechLance covers a range of educational expens...  \n",
       "3  The application process must be completed at l...  \n",
       "4  To receive reimbursement, you must successfull...  "
      ]
     },
     "execution_count": 19,
     "metadata": {},
     "output_type": "execute_result"
    }
   ],
   "source": [
    "import pandas as pd\n",
    "from tqdm import tqdm  # for progress bar, optional\n",
    "tqdm.pandas()\n",
    "\n",
    "# Preprocess all PDF files and collect segments for vector store\n",
    "segments = []\n",
    "for file in tqdm(files):\n",
    "    if file.lower().endswith('.pdf'):\n",
    "        pdf_path = os.path.join(path, file)\n",
    "        raw_text = extract_text_from_pdf(pdf_path)\n",
    "        sections = split_into_sections(raw_text)\n",
    "        for heading, content in sections.items():\n",
    "            cleaned = clean_text(content)\n",
    "            segments.append({\n",
    "                'file': file,\n",
    "                'section': heading,\n",
    "                'text': cleaned\n",
    "            })\n",
    "\n",
    "# Convert to DataFrame for easy processing\n",
    "segments_df = pd.DataFrame(segments)\n",
    "segments_df.head()"
   ]
  }
 ],
 "metadata": {
  "kernelspec": {
   "display_name": ".venv",
   "language": "python",
   "name": "python3"
  },
  "language_info": {
   "codemirror_mode": {
    "name": "ipython",
    "version": 3
   },
   "file_extension": ".py",
   "mimetype": "text/x-python",
   "name": "python",
   "nbconvert_exporter": "python",
   "pygments_lexer": "ipython3",
   "version": "3.9.6"
  }
 },
 "nbformat": 4,
 "nbformat_minor": 5
}
